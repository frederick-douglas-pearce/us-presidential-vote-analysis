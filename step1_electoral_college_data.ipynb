{
 "cells": [
  {
   "cell_type": "markdown",
   "metadata": {},
   "source": [
    "# US Presidential Election Analysis: Electoral College, Popular Vote, or Both?\n",
    "\n",
    "## Objective\n",
    "This notebook contains the first step in a larger effort to analyze historical US presidential election data. It focuses on scraping the electoral college voting results for all modern US presidential elections (i.e. from 1892 to the present) from the [National Archives Website](https://www.archives.gov/electoral-college/results), and then writing the results to a Postgres Database for subsequent analysis. The following steps are implemented in this notebook:\n",
    "1. [X] Initial Setup: Import Modules, Define Functions, and Set Parameter Values\n",
    "2. [X] Scrape Electoral College Data from the National Archives Website\n",
    "    1. Define Set containing All Presidential Election Years\n",
    "    2. Define Set containing All US \"States\" that Vote in Presidential Elections (includes Washington DC)\n",
    "    3. Scrape National Archive Summary web page for Links to each Election Year's Data\n",
    "    4. Scrape each Election Year's web page to download the two tables containing all Election Data\n",
    "    5. Parse the Data for All Election Years into a useable, compact format\n",
    "    6. Validate Accuracy of Parsed Election Data\n",
    "3. [ ] Normalize Election Data for Writing to Postgres Database\n",
    "4. [ ] Write Election Data Tables to Postgres\n",
    "\n",
    "### Notes\n",
    "- The National Archives website only contains Electoral College results for US Presidential Elections from 1892 to present. Another data source will be scraped to get Popular Vote data for each Presidential Election\n",
    "- Currently I'm only scraping information regarding the Presidential Candidates and their electoral college vote tallies; however, Vice Presidential results are also available, so I can circle back to include that data if the need arises\n",
    "- FYI: Any candidate who wins a majority or plurality of the popular vote nationwide has a good chance of winning in the Electoral College, but there are no guarantees: for example the results of 1824, 1876, 1888, 2000, and 2016 elections (see Reference 1 below).\n",
    "\n",
    "### Data Sources\n",
    "1. US Presidential Election Electoral College voting results: https://www.archives.gov/electoral-college/results\n",
    "2. US States shapefile: https://www2.census.gov/geo/tiger/TIGER2019/STATE/tl_2019_us_state.zip\n",
    "\n",
    "### References\n",
    "1. Electoral College History: https://www.archives.gov/electoral-college/history\n",
    "2. https://towardsdatascience.com/scraping-table-data-from-websites-using-a-single-line-in-python-ba898d54e2bc"
   ]
  },
  {
   "cell_type": "markdown",
   "metadata": {},
   "source": [
    "## 1. Setup"
   ]
  },
  {
   "cell_type": "markdown",
   "metadata": {},
   "source": [
    "### 1.1 Import Modules"
   ]
  },
  {
   "cell_type": "code",
   "execution_count": 1,
   "metadata": {},
   "outputs": [],
   "source": [
    "# import modules\n",
    "from bs4 import BeautifulSoup\n",
    "import geopandas as gpd\n",
    "import matplotlib.pyplot as plt\n",
    "import pandas as pd\n",
    "import requests"
   ]
  },
  {
   "cell_type": "markdown",
   "metadata": {},
   "source": [
    "### 1.2 Define Functions"
   ]
  },
  {
   "cell_type": "code",
   "execution_count": 2,
   "metadata": {},
   "outputs": [],
   "source": [
    "def get_html_tables(url, div_id=\"main-col\", find_all=False):\n",
    "    page = requests.get(url)\n",
    "    soup = BeautifulSoup(page.content, \"html.parser\")\n",
    "    div = soup.find(\"div\", id=div_id)\n",
    "    if find_all:\n",
    "        return div.find_all(\"table\")\n",
    "    else:\n",
    "        return div.find(\"table\")\n",
    "    \n",
    "def scrape_election_links(archive_url_domain, archive_url_base):\n",
    "    link_table = get_html_tables(archive_url_domain+archive_url_base)\n",
    "    return [archive_url_domain+a['href'] for a in link_table.find_all(\"a\")]    \n",
    "\n",
    "def scrape_raw_election_tables(election_links, us_election_years):\n",
    "    raw_election_tables = {}\n",
    "    for link in election_links:\n",
    "        link_year = int(link.split('/')[-1])\n",
    "        if link_year in us_election_years:\n",
    "            raw_election_tables[link_year] = get_html_tables(link, find_all=True)\n",
    "        else:\n",
    "            print(f\"Error: The link year, {link_year}, parsed from the following link does not match a US election year: \\n{link}\")\n",
    "    return raw_election_tables\n",
    "    \n",
    "def parse_election_years(data_tables, state_names):\n",
    "    parsed_years = []\n",
    "    for ind, year in enumerate(data_tables.keys()):\n",
    "        print(f\"Working on Election Year = {year} ({ind})\")\n",
    "        parsed_dict = parse_election_year_tables(data_tables[year], state_names)\n",
    "        parsed_dict['year'] = year\n",
    "        parsed_years.append(parsed_dict)\n",
    "    return parsed_years\n",
    "\n",
    "def parse_election_year_tables(year_tables, state_names):\n",
    "    parsed_tables = {}\n",
    "    parsed_tables['t1'] = parse_table1(year_tables[0].find_all('tr'))\n",
    "    parsed_tables['t2'] = parse_table2(year_tables[1].find_all('tr'), state_names)\n",
    "    return parsed_tables\n",
    "\n",
    "def parse_table1(t1_rows):\n",
    "    cp_row_inds = [0, 1]\n",
    "    cp_row_headers = [\"President\", \"Main Opponent\"]\n",
    "    candidate_party = []\n",
    "    for ri, rh in zip(cp_row_inds, cp_row_headers):\n",
    "        candidate_party.append(parse_t1_candidate_party(t1_rows, ri, rh))\n",
    "    return candidate_party\n",
    "    \n",
    "# Parse Table 1 to store the Presidential Candidates Name and Party\n",
    "def parse_t1_candidate_party(t1_rows, row_ind, row_header):\n",
    "    if t1_rows[row_ind].find('th').get_text() == row_header:\n",
    "        row_data = t1_rows[row_ind].find('td').get_text()\n",
    "        name, party = row_data.split(' [')\n",
    "        return (name, party[:-1])\n",
    "    else:\n",
    "        print(f\"Error: Row{row_ind} does not contain data for {row_header}\")\n",
    "\n",
    "def parse_table2(t2_rows, state_names):\n",
    "    t2_data = {}\n",
    "    num_candidates = parse_t2_num_candidates(t2_rows[0])\n",
    "    t2_data['candidate_state'] = parse_t2_candidate_state(t2_rows[1], num_candidates)\n",
    "    t2_data['votes_by_state'] = parse_t2_votes_by_state(t2_rows[2:], num_candidates, state_names)\n",
    "    #t2_data['rows'] = t2_rows\n",
    "    return t2_data\n",
    "\n",
    "def parse_t2_num_candidates(header_row):\n",
    "    return int(header_row.find('th', text=\"For President\").get('colspan'))\n",
    "    \n",
    "def parse_t2_candidate_state(cs_row, num_candidates):\n",
    "    cs_cols = cs_row.find_all('td')\n",
    "    candidate_state = []\n",
    "    for cs in cs_cols[:num_candidates]:\n",
    "        if cs.find('br'):\n",
    "            text = \" \".join(cs.stripped_strings)\n",
    "        else:\n",
    "            text = cs.get_text()\n",
    "        if text == \"Other\":\n",
    "            candidate = text\n",
    "            state = None\n",
    "        else:\n",
    "            candidate, state = text.split(\" of \")\n",
    "        candidate_state.append((candidate.strip(\",\"), state))\n",
    "    return candidate_state\n",
    "\n",
    "def parse_t2_votes_by_state(states_rows, num_candidates, state_names):\n",
    "    votes_by_state = []\n",
    "    for sr in states_rows:\n",
    "        state_cols = sr.find_all('td')\n",
    "        col_0_text = state_cols[0].get_text().strip(\" *\")\n",
    "        if col_0_text in state_names:\n",
    "            state = col_0_text\n",
    "            start_ind, end_ind = 1, num_candidates+2\n",
    "        elif col_0_text in {\"Total\", \"Totals\"}:\n",
    "            state = \"Totals\"\n",
    "            start_ind, end_ind = 1, num_candidates+2\n",
    "        elif sr.find('th', text='Total'):\n",
    "            state = \"Totals\"\n",
    "            start_ind, end_ind = 0, num_candidates+1\n",
    "        else:\n",
    "            state = False\n",
    "        # Only parse vote data and store it if a valid state value is found\n",
    "        # This helps validate the state name was parsed correctly, and\n",
    "        # skips the Notes row at the end of some of the tables\n",
    "        if state:\n",
    "            state_votes = [state]   \n",
    "            for sv in state_cols[start_ind:end_ind]:\n",
    "                votes = sv.get_text()\n",
    "                state_votes.append(int(votes) if votes != '-' else 0)\n",
    "            votes_by_state.append(tuple(state_votes))\n",
    "    return votes_by_state\n",
    "\n",
    "def print_election_year_results(parsed_year):\n",
    "    print(f\"Election Year: {parsed_year['year']}\")\n",
    "    print(f\"Table 1 Top 2 Candidates + Party: \\n{pprint_list_of_tuples(parsed_year['t1'])}\")\n",
    "    print(f\"Table 2 Candidates + Home State: \\n{pprint_list_of_tuples(parsed_year['t2']['candidate_state'])}\")\n",
    "    print(f\"Table 2 Votes by State: \\n{pprint_list_of_tuples(parsed_year['t2']['votes_by_state'])}\")\n",
    "    \n",
    "def pprint_list_of_tuples(list_of_tuples):\n",
    "    list_of_strings = [str(tup).strip('()') for tup in list_of_tuples]\n",
    "    return '\\t'+'\\n\\t'.join(list_of_strings)\n",
    "\n",
    "def make_map_usa(df, col2plot, figsize=(15,8), title=None, fontsize=18, cmap='Blues', edgecolor='k'):\n",
    "    # Define fixed longitude limit, xlim, and latitude limit, ylim, for USA\n",
    "    xlim = (-172, -58)\n",
    "    ylim = (16, 74)\n",
    "    fig, ax = plt.subplots(1, figsize=figsize)\n",
    "    df.plot(column=col2plot, ax=ax, cmap=cmap, edgecolor=edgecolor)\n",
    "    ax.axis('off')\n",
    "    sm = plt.cm.ScalarMappable(cmap=cmap, norm=plt.Normalize(vmin=df[col2plot].min(), vmax=df[col2plot].max()))\n",
    "    sm._A = []\n",
    "    cb = fig.colorbar(sm)\n",
    "    cb.set_label(col2plot, fontsize=fontsize)\n",
    "    cb.ax.tick_params(labelsize=fontsize)\n",
    "    ax.set_xlim(xlim)\n",
    "    ax.set_ylim(ylim)\n",
    "    if title:\n",
    "        ax.set_title(title, fontsize=fontsize+4)\n",
    "    plt.tight_layout()"
   ]
  },
  {
   "cell_type": "markdown",
   "metadata": {},
   "source": [
    "### 1.3 Set Parameters"
   ]
  },
  {
   "cell_type": "code",
   "execution_count": 3,
   "metadata": {},
   "outputs": [],
   "source": [
    "# Define the base URL for the National Archives, and the resource location for the summary page\n",
    "# containing links to Presidential election data for each year. The shape file containing US State\n",
    "# data can be downloaded from here: https://www2.census.gov/geo/tiger/TIGER2019/STATE/\n",
    "latest_election_year = 2020\n",
    "archive_url_domain = \"https://www.archives.gov\"\n",
    "archive_url_base = \"/electoral-college/results\"\n",
    "usa_state_shp = \"/home/fdpearce/Documents/Projects/data/Maps/State_Shapes/tl_2019_us_state/tl_2019_us_state.shp\""
   ]
  },
  {
   "cell_type": "markdown",
   "metadata": {},
   "source": [
    "## 2. Scrape Electoral College Data from the National Archives Website"
   ]
  },
  {
   "cell_type": "markdown",
   "metadata": {},
   "source": [
    "### 2.1 Define Set Containing All Presidential Election Years"
   ]
  },
  {
   "cell_type": "code",
   "execution_count": 4,
   "metadata": {},
   "outputs": [
    {
     "name": "stdout",
     "output_type": "stream",
     "text": [
      "[1789, 1792, 1796, 1800, 1804, 1808, 1812, 1816, 1820, 1824, 1828, 1832, 1836, 1840, 1844, 1848, 1852, 1856, 1860, 1864, 1868, 1872, 1876, 1880, 1884, 1888, 1892, 1896, 1900, 1904, 1908, 1912, 1916, 1920, 1924, 1928, 1932, 1936, 1940, 1944, 1948, 1952, 1956, 1960, 1964, 1968, 1972, 1976, 1980, 1984, 1988, 1992, 1996, 2000, 2004, 2008, 2012, 2016, 2020]\n"
     ]
    }
   ],
   "source": [
    "# Create a set, us_election_years, with every year that a US Presidential Election occurred\n",
    "# This set will be used to scrape all available election data\n",
    "# See archive_url website for the complete list of election years\n",
    "us_election_years = [1789]+list(range(1792, latest_election_year+4, 4))\n",
    "print(us_election_years)"
   ]
  },
  {
   "cell_type": "code",
   "execution_count": 5,
   "metadata": {},
   "outputs": [],
   "source": [
    "# Convert to set so membership checks execute efficiently (O(1))\n",
    "us_election_years = set(us_election_years)"
   ]
  },
  {
   "cell_type": "markdown",
   "metadata": {},
   "source": [
    "### 2.2 Define Set Containing All US States"
   ]
  },
  {
   "cell_type": "code",
   "execution_count": 6,
   "metadata": {},
   "outputs": [
    {
     "name": "stdout",
     "output_type": "stream",
     "text": [
      "['Alabama', 'Alaska', 'American Samoa', 'Arizona', 'Arkansas', 'California', 'Colorado', 'Commonwealth of the Northern Mariana Islands', 'Connecticut', 'Delaware', 'District of Columbia', 'Florida', 'Georgia', 'Guam', 'Hawaii', 'Idaho', 'Illinois', 'Indiana', 'Iowa', 'Kansas', 'Kentucky', 'Louisiana', 'Maine', 'Maryland', 'Massachusetts', 'Michigan', 'Minnesota', 'Mississippi', 'Missouri', 'Montana', 'Nebraska', 'Nevada', 'New Hampshire', 'New Jersey', 'New Mexico', 'New York', 'North Carolina', 'North Dakota', 'Ohio', 'Oklahoma', 'Oregon', 'Pennsylvania', 'Puerto Rico', 'Rhode Island', 'South Carolina', 'South Dakota', 'Tennessee', 'Texas', 'United States Virgin Islands', 'Utah', 'Vermont', 'Virginia', 'Washington', 'West Virginia', 'Wisconsin', 'Wyoming']\n"
     ]
    }
   ],
   "source": [
    "# This loads all the data from the shape file. For now, only the state names\n",
    "# are used, but later the geometry column will be used to generate maps\n",
    "usa = gpd.read_file(usa_state_shp)\n",
    "us_state_names = usa['NAME'].values\n",
    "print(sorted(us_state_names))"
   ]
  },
  {
   "cell_type": "code",
   "execution_count": 7,
   "metadata": {},
   "outputs": [
    {
     "name": "stdout",
     "output_type": "stream",
     "text": [
      "Total # of States = 56\n"
     ]
    }
   ],
   "source": [
    "# Convert array to set and check how many states are included in the shapefile data\n",
    "us_state_names = set(us_state_names)\n",
    "print(f\"Total # of States = {len(us_state_names)}\")"
   ]
  },
  {
   "cell_type": "code",
   "execution_count": 8,
   "metadata": {},
   "outputs": [
    {
     "name": "stdout",
     "output_type": "stream",
     "text": [
      "Total # of States = 51\n"
     ]
    }
   ],
   "source": [
    "# Let's drop the names of Territories, etc that don't participate in Presidential Elections\n",
    "territories = ['American Samoa', 'Commonwealth of the Northern Mariana Islands', 'Guam', 'Puerto Rico', 'United States Virgin Islands']\n",
    "us_state_names.difference_update(territories)\n",
    "print(f\"Total # of States = {len(us_state_names)}\")"
   ]
  },
  {
   "cell_type": "markdown",
   "metadata": {},
   "source": [
    "### 2.3 Scrape the Links to each Election Year's Data"
   ]
  },
  {
   "cell_type": "code",
   "execution_count": 9,
   "metadata": {},
   "outputs": [
    {
     "name": "stdout",
     "output_type": "stream",
     "text": [
      "['https://www.archives.gov/electoral-college/1892', 'https://www.archives.gov/electoral-college/1896', 'https://www.archives.gov/electoral-college/1900', 'https://www.archives.gov/electoral-college/1904', 'https://www.archives.gov/electoral-college/1908', 'https://www.archives.gov/electoral-college/1912', 'https://www.archives.gov/electoral-college/1916', 'https://www.archives.gov/electoral-college/1920', 'https://www.archives.gov/electoral-college/1924', 'https://www.archives.gov/electoral-college/1928', 'https://www.archives.gov/electoral-college/1932', 'https://www.archives.gov/electoral-college/1936', 'https://www.archives.gov/electoral-college/1940', 'https://www.archives.gov/electoral-college/1944', 'https://www.archives.gov/electoral-college/1948', 'https://www.archives.gov/electoral-college/1952', 'https://www.archives.gov/electoral-college/1956', 'https://www.archives.gov/electoral-college/1960', 'https://www.archives.gov/electoral-college/1964', 'https://www.archives.gov/electoral-college/1968', 'https://www.archives.gov/electoral-college/1972', 'https://www.archives.gov/electoral-college/1976', 'https://www.archives.gov/electoral-college/1980', 'https://www.archives.gov/electoral-college/1984', 'https://www.archives.gov/electoral-college/1988', 'https://www.archives.gov/electoral-college/1992', 'https://www.archives.gov/electoral-college/1996', 'https://www.archives.gov/electoral-college/2000', 'https://www.archives.gov/electoral-college/2004', 'https://www.archives.gov/electoral-college/2008', 'https://www.archives.gov/electoral-college/2012', 'https://www.archives.gov/electoral-college/2016', 'https://www.archives.gov/electoral-college/2020']\n"
     ]
    }
   ],
   "source": [
    "# parse html page and extract links to each page containing data for a given Presidential Election Year\n",
    "election_links = scrape_election_links(archive_url_domain, archive_url_base)\n",
    "print(election_links)"
   ]
  },
  {
   "cell_type": "markdown",
   "metadata": {},
   "source": [
    "### 2.4 Scrape the Two Tables Containing each Election Year's Data"
   ]
  },
  {
   "cell_type": "code",
   "execution_count": 10,
   "metadata": {},
   "outputs": [],
   "source": [
    "# Data tables dict has keys for each year data is available\n",
    "# Each value is a list with html for the two tables containing election data\n",
    "# Good to have the raw tables for debugging purposes\n",
    "raw_election_tables = scrape_raw_election_tables(election_links, us_election_years)"
   ]
  },
  {
   "cell_type": "code",
   "execution_count": 11,
   "metadata": {},
   "outputs": [
    {
     "name": "stdout",
     "output_type": "stream",
     "text": [
      "dict_keys([1892, 1896, 1900, 1904, 1908, 1912, 1916, 1920, 1924, 1928, 1932, 1936, 1940, 1944, 1948, 1952, 1956, 1960, 1964, 1968, 1972, 1976, 1980, 1984, 1988, 1992, 1996, 2000, 2004, 2008, 2012, 2016, 2020])\n"
     ]
    }
   ],
   "source": [
    "print(raw_election_tables.keys())"
   ]
  },
  {
   "cell_type": "markdown",
   "metadata": {},
   "source": [
    "### 2.5 Parse the Data for All Election Years"
   ]
  },
  {
   "cell_type": "code",
   "execution_count": 12,
   "metadata": {},
   "outputs": [
    {
     "name": "stdout",
     "output_type": "stream",
     "text": [
      "Working on Election Year = 1892 (0)\n",
      "Working on Election Year = 1896 (1)\n",
      "Working on Election Year = 1900 (2)\n",
      "Working on Election Year = 1904 (3)\n",
      "Working on Election Year = 1908 (4)\n",
      "Working on Election Year = 1912 (5)\n",
      "Working on Election Year = 1916 (6)\n",
      "Working on Election Year = 1920 (7)\n",
      "Working on Election Year = 1924 (8)\n",
      "Working on Election Year = 1928 (9)\n",
      "Working on Election Year = 1932 (10)\n",
      "Working on Election Year = 1936 (11)\n",
      "Working on Election Year = 1940 (12)\n",
      "Working on Election Year = 1944 (13)\n",
      "Working on Election Year = 1948 (14)\n",
      "Working on Election Year = 1952 (15)\n",
      "Working on Election Year = 1956 (16)\n",
      "Working on Election Year = 1960 (17)\n",
      "Working on Election Year = 1964 (18)\n",
      "Working on Election Year = 1968 (19)\n",
      "Working on Election Year = 1972 (20)\n",
      "Working on Election Year = 1976 (21)\n",
      "Working on Election Year = 1980 (22)\n",
      "Working on Election Year = 1984 (23)\n",
      "Working on Election Year = 1988 (24)\n",
      "Working on Election Year = 1992 (25)\n",
      "Working on Election Year = 1996 (26)\n",
      "Working on Election Year = 2000 (27)\n",
      "Working on Election Year = 2004 (28)\n",
      "Working on Election Year = 2008 (29)\n",
      "Working on Election Year = 2012 (30)\n",
      "Working on Election Year = 2016 (31)\n",
      "Working on Election Year = 2020 (32)\n"
     ]
    }
   ],
   "source": [
    "parsed_election_years = parse_election_years(raw_election_tables, us_state_names)"
   ]
  },
  {
   "cell_type": "markdown",
   "metadata": {},
   "source": [
    "### 2.6 Validate Accuracy of Parsed Election Data"
   ]
  },
  {
   "cell_type": "code",
   "execution_count": 13,
   "metadata": {},
   "outputs": [
    {
     "name": "stdout",
     "output_type": "stream",
     "text": [
      "Election Year: 1892\n",
      "Table 1 Top 2 Candidates + Party: \n",
      "\t'Grover Cleveland', 'D'\n",
      "\t'Benjamin Harrison', 'R'\n",
      "Table 2 Candidates + Home State: \n",
      "\t'Grover Cleveland', 'New York'\n",
      "\t'Benjamin Harrison', 'Indiana'\n",
      "\t'James B. Weaver', 'Iowa'\n",
      "Table 2 Votes by State: \n",
      "\t'Alabama', 11, 11, 0, 0\n",
      "\t'Arkansas', 8, 8, 0, 0\n",
      "\t'California', 9, 8, 1, 0\n",
      "\t'Colorado', 4, 0, 0, 4\n",
      "\t'Connecticut', 6, 6, 0, 0\n",
      "\t'Delaware', 3, 3, 0, 0\n",
      "\t'Florida', 4, 4, 0, 0\n",
      "\t'Georgia', 13, 13, 0, 0\n",
      "\t'Idaho', 3, 0, 0, 3\n",
      "\t'Illinois', 24, 24, 0, 0\n",
      "\t'Indiana', 15, 15, 0, 0\n",
      "\t'Iowa', 13, 0, 13, 0\n",
      "\t'Kansas', 10, 0, 0, 10\n",
      "\t'Kentucky', 13, 13, 0, 0\n",
      "\t'Louisiana', 8, 8, 0, 0\n",
      "\t'Maine', 6, 0, 6, 0\n",
      "\t'Maryland', 8, 8, 0, 0\n",
      "\t'Massachusetts', 15, 0, 15, 0\n",
      "\t'Michigan', 14, 5, 9, 0\n",
      "\t'Minnesota', 9, 0, 9, 0\n",
      "\t'Mississippi', 9, 9, 0, 0\n",
      "\t'Missouri', 17, 17, 0, 0\n",
      "\t'Montana', 3, 0, 3, 0\n",
      "\t'Nebraska', 8, 0, 8, 0\n",
      "\t'Nevada', 3, 0, 0, 3\n",
      "\t'New Hampshire', 4, 0, 4, 0\n",
      "\t'New Jersey', 10, 10, 0, 0\n",
      "\t'New York', 36, 36, 0, 0\n",
      "\t'North Carolina', 11, 11, 0, 0\n",
      "\t'North Dakota', 3, 1, 1, 1\n",
      "\t'Ohio', 23, 1, 22, 0\n",
      "\t'Oregon', 4, 0, 3, 1\n",
      "\t'Pennsylvania', 32, 0, 32, 0\n",
      "\t'Rhode Island', 4, 0, 4, 0\n",
      "\t'South Carolina', 9, 9, 0, 0\n",
      "\t'South Dakota', 4, 0, 4, 0\n",
      "\t'Tennessee', 12, 12, 0, 0\n",
      "\t'Texas', 15, 15, 0, 0\n",
      "\t'Vermont', 4, 0, 4, 0\n",
      "\t'Virginia', 12, 12, 0, 0\n",
      "\t'Washington', 4, 0, 4, 0\n",
      "\t'West Virginia', 6, 6, 0, 0\n",
      "\t'Wisconsin', 12, 12, 0, 0\n",
      "\t'Wyoming', 3, 0, 3, 0\n",
      "\t'Totals', 444, 277, 145, 22\n"
     ]
    }
   ],
   "source": [
    "# This function provides a compact view of the election\n",
    "# data parsed for a given election year\n",
    "# Index value available in results of previous cell\n",
    "year_index = 0\n",
    "print_election_year_results(parsed_election_years[year_index])"
   ]
  },
  {
   "cell_type": "code",
   "execution_count": 14,
   "metadata": {},
   "outputs": [
    {
     "name": "stdout",
     "output_type": "stream",
     "text": [
      "Year Index, Year Value, # of States Including Totals\n",
      "0, 1892, 45\n",
      "1, 1896, 46\n",
      "2, 1900, 46\n",
      "3, 1904, 46\n",
      "4, 1908, 47\n",
      "5, 1912, 49\n",
      "6, 1916, 49\n",
      "7, 1920, 49\n",
      "8, 1924, 49\n",
      "9, 1928, 49\n",
      "10, 1932, 49\n",
      "11, 1936, 49\n",
      "12, 1940, 49\n",
      "13, 1944, 49\n",
      "14, 1948, 49\n",
      "15, 1952, 49\n",
      "16, 1956, 49\n",
      "17, 1960, 51\n",
      "18, 1964, 52\n",
      "19, 1968, 52\n",
      "20, 1972, 52\n",
      "21, 1976, 52\n",
      "22, 1980, 52\n",
      "23, 1984, 52\n",
      "24, 1988, 52\n",
      "25, 1992, 52\n",
      "26, 1996, 52\n",
      "27, 2000, 52\n",
      "28, 2004, 52\n",
      "29, 2008, 52\n",
      "30, 2012, 52\n",
      "31, 2016, 52\n",
      "32, 2020, 52\n"
     ]
    }
   ],
   "source": [
    "# Verify that the # of States that voted for President each year makes sense\n",
    "# I've confirmed that these values are consistent with when each state was\n",
    "# added to the Union from 1892 to present, plus when DC was able to vote (1964)\n",
    "# see https://en.wikipedia.org/wiki/List_of_U.S._states_by_date_of_admission_to_the_Union\n",
    "print(\"Year Index, Year Value, # of States Including Totals\")\n",
    "for ind, pyr in enumerate(parsed_election_years):\n",
    "    print(ind, pyr['year'], len(pyr['t2']['votes_by_state']), sep=\", \")"
   ]
  },
  {
   "cell_type": "markdown",
   "metadata": {},
   "source": [
    "## 3. Write Election Data to Postgres Database"
   ]
  },
  {
   "cell_type": "code",
   "execution_count": null,
   "metadata": {},
   "outputs": [],
   "source": [
    "# column_names = ['year', 'state', 'president_candidate_name', 'president_candidate_party', 'president_candidate_state', \\\n",
    "#                 'president_electoral_votes', 'president_electoral_rank', 'president_popular_votes', 'president_popular_rank']\n",
    "# data_df = pd.DataFrame(columns=column_names)\n",
    "# data_df.info()"
   ]
  },
  {
   "cell_type": "code",
   "execution_count": null,
   "metadata": {},
   "outputs": [],
   "source": []
  },
  {
   "cell_type": "code",
   "execution_count": null,
   "metadata": {},
   "outputs": [],
   "source": []
  }
 ],
 "metadata": {
  "kernelspec": {
   "display_name": "Python 3 (ipykernel)",
   "language": "python",
   "name": "python3"
  },
  "language_info": {
   "codemirror_mode": {
    "name": "ipython",
    "version": 3
   },
   "file_extension": ".py",
   "mimetype": "text/x-python",
   "name": "python",
   "nbconvert_exporter": "python",
   "pygments_lexer": "ipython3",
   "version": "3.8.10"
  }
 },
 "nbformat": 4,
 "nbformat_minor": 4
}
